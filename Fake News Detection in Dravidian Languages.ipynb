{
 "cells": [
  {
   "cell_type": "code",
   "execution_count": 222,
   "metadata": {
    "colab": {
     "base_uri": "https://localhost:8080/"
    },
    "id": "2vmQbaUjvxYM",
    "outputId": "c1201ab6-0fb7-489a-9b7a-859dd9150640"
   },
   "outputs": [
    {
     "name": "stdout",
     "output_type": "stream",
     "text": [
      "Drive already mounted at /content/drive; to attempt to forcibly remount, call drive.mount(\"/content/drive\", force_remount=True).\n"
     ]
    }
   ],
   "source": [
    "from google.colab import drive\n",
    "drive.mount('/content/drive')"
   ]
  },
  {
   "cell_type": "code",
   "execution_count": 223,
   "metadata": {
    "id": "veedpGU96ICr"
   },
   "outputs": [],
   "source": [
    "%pip install transformers --quiet"
   ]
  },
  {
   "cell_type": "code",
   "execution_count": 224,
   "metadata": {
    "id": "_AHF_vUh5yWM"
   },
   "outputs": [],
   "source": [
    "%pip install gensim nltk pandas numpy tensorflow scikit-learn matplotlib seaborn --quiet"
   ]
  },
  {
   "cell_type": "code",
   "execution_count": 225,
   "metadata": {
    "id": "_KL3xTxa6L-M"
   },
   "outputs": [],
   "source": [
    "import warnings\n",
    "warnings.filterwarnings(\"ignore\")"
   ]
  },
  {
   "cell_type": "code",
   "execution_count": 226,
   "metadata": {
    "id": "KWGPQAVD6QHg"
   },
   "outputs": [],
   "source": [
    "import os\n",
    "os.makedirs(\"./Results/Malayalam\", exist_ok=True)"
   ]
  },
  {
   "cell_type": "markdown",
   "metadata": {
    "id": "LQja_cod6TjM"
   },
   "source": [
    "## Ingestion and Visualisation"
   ]
  },
  {
   "cell_type": "code",
   "execution_count": 227,
   "metadata": {
    "id": "9g91oBq46YWf"
   },
   "outputs": [],
   "source": [
    "import pandas as pd\n",
    "import numpy as np\n",
    "import matplotlib.pyplot as plt\n",
    "import seaborn as sns\n",
    "%matplotlib inline"
   ]
  },
  {
   "cell_type": "code",
   "execution_count": 228,
   "metadata": {
    "id": "9l3zjETP6R16"
   },
   "outputs": [],
   "source": [
    "# Load datasets\n",
    "import pandas as pd\n",
    "mal_train_df = pd.read_csv(\"/content/mal_fake_dev.csv\")\n",
    "mal_test_df = pd.read_csv(\"/content/mal_fake_test_with_labels.csv\")\n",
    "mal_val_df = pd.read_csv(\"/content/mal_fake_train (1).csv\")"
   ]
  },
  {
   "cell_type": "code",
   "execution_count": 229,
   "metadata": {
    "colab": {
     "base_uri": "https://localhost:8080/",
     "height": 258
    },
    "id": "JVflGv936dPn",
    "outputId": "6b82816a-6f5d-40bc-f35c-7930e7d53795"
   },
   "outputs": [
    {
     "data": {
      "application/vnd.google.colaboratory.intrinsic+json": {
       "summary": "{\n  \"name\": \"dataset\",\n  \"rows\": 5091,\n  \"fields\": [\n    {\n      \"column\": \"Unnamed: 0\",\n      \"properties\": {\n        \"dtype\": \"number\",\n        \"std\": 1461.2744247768935,\n        \"min\": 0.0,\n        \"max\": 5090.0,\n        \"num_unique_values\": 4072,\n        \"samples\": [\n          4497.0,\n          3990.0,\n          379.0\n        ],\n        \"semantic_type\": \"\",\n        \"description\": \"\"\n      }\n    },\n    {\n      \"column\": \"text\",\n      \"properties\": {\n        \"dtype\": \"string\",\n        \"num_unique_values\": 4950,\n        \"samples\": [\n          \"\\u0d24\\u0d4b\\u0d28\\u0d4d\\u0d28\\u0d3f\\u0d35\\u0d3e\\u0d38\\u0d02 \\u0d05\\u0d32\\u0d4d\\u0d32\\u0d3e\\u0d24\\u0d46\\u0d28\\u0d4d\\u0d24\\u0d41 \\u0d2a\\u0d31\\u0d2f\\u0d3e\\u0d7b\",\n          \"Ivanmar logathinu thanne apathanu.\",\n          \"The death rate has reduced !! Its because , the less immunity people, old people had died already,\"\n        ],\n        \"semantic_type\": \"\",\n        \"description\": \"\"\n      }\n    },\n    {\n      \"column\": \"label\",\n      \"properties\": {\n        \"dtype\": \"category\",\n        \"num_unique_values\": 2,\n        \"samples\": [\n          \"original\",\n          \"Fake\"\n        ],\n        \"semantic_type\": \"\",\n        \"description\": \"\"\n      }\n    }\n  ]\n}",
       "type": "dataframe",
       "variable_name": "dataset"
      },
      "text/html": [
       "\n",
       "  <div id=\"df-8cefdc3d-2284-4961-89ec-5c05a44764f2\" class=\"colab-df-container\">\n",
       "    <div>\n",
       "<style scoped>\n",
       "    .dataframe tbody tr th:only-of-type {\n",
       "        vertical-align: middle;\n",
       "    }\n",
       "\n",
       "    .dataframe tbody tr th {\n",
       "        vertical-align: top;\n",
       "    }\n",
       "\n",
       "    .dataframe thead th {\n",
       "        text-align: right;\n",
       "    }\n",
       "</style>\n",
       "<table border=\"1\" class=\"dataframe\">\n",
       "  <thead>\n",
       "    <tr style=\"text-align: right;\">\n",
       "      <th></th>\n",
       "      <th>Unnamed: 0</th>\n",
       "      <th>text</th>\n",
       "      <th>label</th>\n",
       "    </tr>\n",
       "  </thead>\n",
       "  <tbody>\n",
       "    <tr>\n",
       "      <th>0</th>\n",
       "      <td>2535.0</td>\n",
       "      <td>കുറെ പേർക്ക് കുരു പൊട്ടാൻ സാധ്യത ഉണ്ട്..</td>\n",
       "      <td>Fake</td>\n",
       "    </tr>\n",
       "    <tr>\n",
       "      <th>1</th>\n",
       "      <td>4059.0</td>\n",
       "      <td>പോടനായെ</td>\n",
       "      <td>original</td>\n",
       "    </tr>\n",
       "    <tr>\n",
       "      <th>2</th>\n",
       "      <td>2310.0</td>\n",
       "      <td>ചൈന  തയോളികൾ</td>\n",
       "      <td>Fake</td>\n",
       "    </tr>\n",
       "    <tr>\n",
       "      <th>3</th>\n",
       "      <td>2202.0</td>\n",
       "      <td>കൊറോണ നാട്ടിൽ കൂടുക ആണല്ലോ ഇവറ്റകളുടെ ലക്ഷ്യം</td>\n",
       "      <td>original</td>\n",
       "    </tr>\n",
       "    <tr>\n",
       "      <th>4</th>\n",
       "      <td>4215.0</td>\n",
       "      <td>ഇത്‌ എഴുതിയവന്റെ കൈ തല്ലിയൊടിക്കണം ....ഇനി മേല...</td>\n",
       "      <td>original</td>\n",
       "    </tr>\n",
       "  </tbody>\n",
       "</table>\n",
       "</div>\n",
       "    <div class=\"colab-df-buttons\">\n",
       "\n",
       "  <div class=\"colab-df-container\">\n",
       "    <button class=\"colab-df-convert\" onclick=\"convertToInteractive('df-8cefdc3d-2284-4961-89ec-5c05a44764f2')\"\n",
       "            title=\"Convert this dataframe to an interactive table.\"\n",
       "            style=\"display:none;\">\n",
       "\n",
       "  <svg xmlns=\"http://www.w3.org/2000/svg\" height=\"24px\" viewBox=\"0 -960 960 960\">\n",
       "    <path d=\"M120-120v-720h720v720H120Zm60-500h600v-160H180v160Zm220 220h160v-160H400v160Zm0 220h160v-160H400v160ZM180-400h160v-160H180v160Zm440 0h160v-160H620v160ZM180-180h160v-160H180v160Zm440 0h160v-160H620v160Z\"/>\n",
       "  </svg>\n",
       "    </button>\n",
       "\n",
       "  <style>\n",
       "    .colab-df-container {\n",
       "      display:flex;\n",
       "      gap: 12px;\n",
       "    }\n",
       "\n",
       "    .colab-df-convert {\n",
       "      background-color: #E8F0FE;\n",
       "      border: none;\n",
       "      border-radius: 50%;\n",
       "      cursor: pointer;\n",
       "      display: none;\n",
       "      fill: #1967D2;\n",
       "      height: 32px;\n",
       "      padding: 0 0 0 0;\n",
       "      width: 32px;\n",
       "    }\n",
       "\n",
       "    .colab-df-convert:hover {\n",
       "      background-color: #E2EBFA;\n",
       "      box-shadow: 0px 1px 2px rgba(60, 64, 67, 0.3), 0px 1px 3px 1px rgba(60, 64, 67, 0.15);\n",
       "      fill: #174EA6;\n",
       "    }\n",
       "\n",
       "    .colab-df-buttons div {\n",
       "      margin-bottom: 4px;\n",
       "    }\n",
       "\n",
       "    [theme=dark] .colab-df-convert {\n",
       "      background-color: #3B4455;\n",
       "      fill: #D2E3FC;\n",
       "    }\n",
       "\n",
       "    [theme=dark] .colab-df-convert:hover {\n",
       "      background-color: #434B5C;\n",
       "      box-shadow: 0px 1px 3px 1px rgba(0, 0, 0, 0.15);\n",
       "      filter: drop-shadow(0px 1px 2px rgba(0, 0, 0, 0.3));\n",
       "      fill: #FFFFFF;\n",
       "    }\n",
       "  </style>\n",
       "\n",
       "    <script>\n",
       "      const buttonEl =\n",
       "        document.querySelector('#df-8cefdc3d-2284-4961-89ec-5c05a44764f2 button.colab-df-convert');\n",
       "      buttonEl.style.display =\n",
       "        google.colab.kernel.accessAllowed ? 'block' : 'none';\n",
       "\n",
       "      async function convertToInteractive(key) {\n",
       "        const element = document.querySelector('#df-8cefdc3d-2284-4961-89ec-5c05a44764f2');\n",
       "        const dataTable =\n",
       "          await google.colab.kernel.invokeFunction('convertToInteractive',\n",
       "                                                    [key], {});\n",
       "        if (!dataTable) return;\n",
       "\n",
       "        const docLinkHtml = 'Like what you see? Visit the ' +\n",
       "          '<a target=\"_blank\" href=https://colab.research.google.com/notebooks/data_table.ipynb>data table notebook</a>'\n",
       "          + ' to learn more about interactive tables.';\n",
       "        element.innerHTML = '';\n",
       "        dataTable['output_type'] = 'display_data';\n",
       "        await google.colab.output.renderOutput(dataTable, element);\n",
       "        const docLink = document.createElement('div');\n",
       "        docLink.innerHTML = docLinkHtml;\n",
       "        element.appendChild(docLink);\n",
       "      }\n",
       "    </script>\n",
       "  </div>\n",
       "\n",
       "\n",
       "<div id=\"df-de9fd829-eb72-477c-9540-3cfe8755d3fb\">\n",
       "  <button class=\"colab-df-quickchart\" onclick=\"quickchart('df-de9fd829-eb72-477c-9540-3cfe8755d3fb')\"\n",
       "            title=\"Suggest charts\"\n",
       "            style=\"display:none;\">\n",
       "\n",
       "<svg xmlns=\"http://www.w3.org/2000/svg\" height=\"24px\"viewBox=\"0 0 24 24\"\n",
       "     width=\"24px\">\n",
       "    <g>\n",
       "        <path d=\"M19 3H5c-1.1 0-2 .9-2 2v14c0 1.1.9 2 2 2h14c1.1 0 2-.9 2-2V5c0-1.1-.9-2-2-2zM9 17H7v-7h2v7zm4 0h-2V7h2v10zm4 0h-2v-4h2v4z\"/>\n",
       "    </g>\n",
       "</svg>\n",
       "  </button>\n",
       "\n",
       "<style>\n",
       "  .colab-df-quickchart {\n",
       "      --bg-color: #E8F0FE;\n",
       "      --fill-color: #1967D2;\n",
       "      --hover-bg-color: #E2EBFA;\n",
       "      --hover-fill-color: #174EA6;\n",
       "      --disabled-fill-color: #AAA;\n",
       "      --disabled-bg-color: #DDD;\n",
       "  }\n",
       "\n",
       "  [theme=dark] .colab-df-quickchart {\n",
       "      --bg-color: #3B4455;\n",
       "      --fill-color: #D2E3FC;\n",
       "      --hover-bg-color: #434B5C;\n",
       "      --hover-fill-color: #FFFFFF;\n",
       "      --disabled-bg-color: #3B4455;\n",
       "      --disabled-fill-color: #666;\n",
       "  }\n",
       "\n",
       "  .colab-df-quickchart {\n",
       "    background-color: var(--bg-color);\n",
       "    border: none;\n",
       "    border-radius: 50%;\n",
       "    cursor: pointer;\n",
       "    display: none;\n",
       "    fill: var(--fill-color);\n",
       "    height: 32px;\n",
       "    padding: 0;\n",
       "    width: 32px;\n",
       "  }\n",
       "\n",
       "  .colab-df-quickchart:hover {\n",
       "    background-color: var(--hover-bg-color);\n",
       "    box-shadow: 0 1px 2px rgba(60, 64, 67, 0.3), 0 1px 3px 1px rgba(60, 64, 67, 0.15);\n",
       "    fill: var(--button-hover-fill-color);\n",
       "  }\n",
       "\n",
       "  .colab-df-quickchart-complete:disabled,\n",
       "  .colab-df-quickchart-complete:disabled:hover {\n",
       "    background-color: var(--disabled-bg-color);\n",
       "    fill: var(--disabled-fill-color);\n",
       "    box-shadow: none;\n",
       "  }\n",
       "\n",
       "  .colab-df-spinner {\n",
       "    border: 2px solid var(--fill-color);\n",
       "    border-color: transparent;\n",
       "    border-bottom-color: var(--fill-color);\n",
       "    animation:\n",
       "      spin 1s steps(1) infinite;\n",
       "  }\n",
       "\n",
       "  @keyframes spin {\n",
       "    0% {\n",
       "      border-color: transparent;\n",
       "      border-bottom-color: var(--fill-color);\n",
       "      border-left-color: var(--fill-color);\n",
       "    }\n",
       "    20% {\n",
       "      border-color: transparent;\n",
       "      border-left-color: var(--fill-color);\n",
       "      border-top-color: var(--fill-color);\n",
       "    }\n",
       "    30% {\n",
       "      border-color: transparent;\n",
       "      border-left-color: var(--fill-color);\n",
       "      border-top-color: var(--fill-color);\n",
       "      border-right-color: var(--fill-color);\n",
       "    }\n",
       "    40% {\n",
       "      border-color: transparent;\n",
       "      border-right-color: var(--fill-color);\n",
       "      border-top-color: var(--fill-color);\n",
       "    }\n",
       "    60% {\n",
       "      border-color: transparent;\n",
       "      border-right-color: var(--fill-color);\n",
       "    }\n",
       "    80% {\n",
       "      border-color: transparent;\n",
       "      border-right-color: var(--fill-color);\n",
       "      border-bottom-color: var(--fill-color);\n",
       "    }\n",
       "    90% {\n",
       "      border-color: transparent;\n",
       "      border-bottom-color: var(--fill-color);\n",
       "    }\n",
       "  }\n",
       "</style>\n",
       "\n",
       "  <script>\n",
       "    async function quickchart(key) {\n",
       "      const quickchartButtonEl =\n",
       "        document.querySelector('#' + key + ' button');\n",
       "      quickchartButtonEl.disabled = true;  // To prevent multiple clicks.\n",
       "      quickchartButtonEl.classList.add('colab-df-spinner');\n",
       "      try {\n",
       "        const charts = await google.colab.kernel.invokeFunction(\n",
       "            'suggestCharts', [key], {});\n",
       "      } catch (error) {\n",
       "        console.error('Error during call to suggestCharts:', error);\n",
       "      }\n",
       "      quickchartButtonEl.classList.remove('colab-df-spinner');\n",
       "      quickchartButtonEl.classList.add('colab-df-quickchart-complete');\n",
       "    }\n",
       "    (() => {\n",
       "      let quickchartButtonEl =\n",
       "        document.querySelector('#df-de9fd829-eb72-477c-9540-3cfe8755d3fb button');\n",
       "      quickchartButtonEl.style.display =\n",
       "        google.colab.kernel.accessAllowed ? 'block' : 'none';\n",
       "    })();\n",
       "  </script>\n",
       "</div>\n",
       "\n",
       "    </div>\n",
       "  </div>\n"
      ],
      "text/plain": [
       "   Unnamed: 0                                               text     label\n",
       "0      2535.0           കുറെ പേർക്ക് കുരു പൊട്ടാൻ സാധ്യത ഉണ്ട്..      Fake\n",
       "1      4059.0                                            പോടനായെ  original\n",
       "2      2310.0                                       ചൈന  തയോളികൾ      Fake\n",
       "3      2202.0      കൊറോണ നാട്ടിൽ കൂടുക ആണല്ലോ ഇവറ്റകളുടെ ലക്ഷ്യം  original\n",
       "4      4215.0  ഇത്‌ എഴുതിയവന്റെ കൈ തല്ലിയൊടിക്കണം ....ഇനി മേല...  original"
      ]
     },
     "execution_count": 229,
     "metadata": {},
     "output_type": "execute_result"
    }
   ],
   "source": [
    "# Combine datasets\n",
    "dataset = pd.concat([mal_train_df, mal_test_df, mal_val_df], ignore_index=True)\n",
    "dataset.head()"
   ]
  },
  {
   "cell_type": "code",
   "execution_count": 230,
   "metadata": {
    "colab": {
     "base_uri": "https://localhost:8080/"
    },
    "id": "xg2amhrA65uh",
    "outputId": "b998103d-7e60-45ab-a805-3902f143dcd2"
   },
   "outputs": [
    {
     "data": {
      "text/plain": [
       "(4952, 2)"
      ]
     },
     "execution_count": 230,
     "metadata": {},
     "output_type": "execute_result"
    }
   ],
   "source": [
    "dataset = dataset[['text', 'label']]\n",
    "dataset.dropna(inplace=True)\n",
    "\n",
    "dataset.drop_duplicates(inplace=True, ignore_index=True)\n",
    "dataset.reset_index(drop=True, inplace=True)\n",
    "dataset.shape"
   ]
  },
  {
   "cell_type": "code",
   "execution_count": 231,
   "metadata": {
    "colab": {
     "base_uri": "https://localhost:8080/"
    },
    "id": "5b-32cJP6_lZ",
    "outputId": "d5e14d55-a2ad-4091-b4a0-17e47a9683b1"
   },
   "outputs": [
    {
     "data": {
      "text/plain": [
       "label\n",
       "Fake        2490\n",
       "original    2462\n",
       "Name: count, dtype: int64"
      ]
     },
     "execution_count": 231,
     "metadata": {},
     "output_type": "execute_result"
    }
   ],
   "source": [
    "dataset['label'].value_counts()"
   ]
  },
  {
   "cell_type": "code",
   "execution_count": 232,
   "metadata": {
    "id": "sIDK7HmG7Bho"
   },
   "outputs": [],
   "source": [
    "def plot_sequence_word_counts(sequences):\n",
    "    word_counts = [len(sequence.split()) for sequence in sequences]\n",
    "\n",
    "    min_length_index = word_counts.index(min(word_counts))\n",
    "    max_length_index = word_counts.index(max(word_counts))\n",
    "\n",
    "    print(\"Minimum length of sequence:\", len(sequences[min_length_index]), \" - index: \", min_length_index)\n",
    "    print(\"Maximum length of sequence:\", len(sequences[max_length_index]), \" - index: \", max_length_index)\n",
    "    print(\"Sequence average length: \", sum(word_counts)/len(sequences))\n",
    "\n",
    "    sns.set(style=\"whitegrid\")\n",
    "    plt.figure(figsize=(10, 6))\n",
    "    sns.histplot(word_counts, bins=20, kde=False, color=\"skyblue\")\n",
    "\n",
    "    plt.xlabel(\"Word Count\")\n",
    "    plt.ylabel(\"Frequency\")\n",
    "    plt.title(\"Histogram of Word Counts for Sequences\")\n",
    "    plt.show()\n",
    "\n",
    "    plt.figure(figsize=(10, 6))\n",
    "    sns.boxenplot(word_counts)\n",
    "    plt.ylabel(\"Word Counts\")\n",
    "    plt.title(\"Box Plot of Word Counts for Sequences\")\n",
    "    plt.show()"
   ]
  },
  {
   "cell_type": "code",
   "execution_count": 233,
   "metadata": {
    "colab": {
     "base_uri": "https://localhost:8080/",
     "height": 887
    },
    "id": "jMOVBiW17DXW",
    "outputId": "c3ee0450-1ab2-4b72-e4e6-aeacf747dc0d"
   },
   "outputs": [
    {
     "name": "stdout",
     "output_type": "stream",
     "text": [
      "Minimum length of sequence: 7  - index:  1\n",
      "Maximum length of sequence: 2609  - index:  1875\n",
      "Sequence average length:  11.297253634894991\n"
     ]
    },
    {
     "data": {
      "image/png": "[encoded data removed]",
      "text/plain": [
       "<Figure size 1000x600 with 1 Axes>"
      ]
     },
     "metadata": {},
     "output_type": "display_data"
    },
    {
     "data": {
      "image/png": "[encoded data removed]",
      "text/plain": [
       "<Figure size 1000x600 with 1 Axes>"
      ]
     },
     "metadata": {},
     "output_type": "display_data"
    }
   ],
   "source": [
    "plot_sequence_word_counts(dataset['text'].tolist())"
   ]
  },
  {
   "cell_type": "code",
   "execution_count": 234,
   "metadata": {
    "colab": {
     "base_uri": "https://localhost:8080/"
    },
    "id": "6kkWYXlo7Fcm",
    "outputId": "773b8e5c-97a0-4b41-f53b-5f6501c71734"
   },
   "outputs": [
    {
     "name": "stdout",
     "output_type": "stream",
     "text": [
      "Text -  മാധ്യമരംഗത്തെ റോസ്റ്റിങ് അർജു🔥\n",
      "\n",
      "Label -  original\n",
      "\n",
      "\n",
      "\n",
      "\n"
     ]
    }
   ],
   "source": [
    "from random import choice\n",
    "\n",
    "for _ in range(1):\n",
    "    index = choice(range(len(dataset)))\n",
    "\n",
    "    print(\"Text - \", dataset['text'][index])\n",
    "    print(\"\\nLabel - \", dataset['label'][index])\n",
    "    print(\"\\n\\n\\n\")"
   ]
  },
  {
   "cell_type": "markdown",
   "metadata": {
    "id": "bUt_7G-U8ukf"
   },
   "source": [
    "## Preprocessing"
   ]
  },
  {
   "cell_type": "code",
   "execution_count": 235,
   "metadata": {
    "id": "OJR2F2uG8gTq"
   },
   "outputs": [],
   "source": [
    "dataset['length'] = dataset['text'].apply(lambda x: len(x.split(\" \")))"
   ]
  },
  {
   "cell_type": "code",
   "execution_count": 236,
   "metadata": {
    "id": "1_WiL6RM8ybQ"
   },
   "outputs": [],
   "source": [
    "dataset = dataset[dataset['length'] < 30]"
   ]
  },
  {
   "cell_type": "code",
   "execution_count": 237,
   "metadata": {
    "colab": {
     "base_uri": "https://localhost:8080/"
    },
    "id": "3Uj5ftq-83dV",
    "outputId": "49cc4b2d-ac87-4a07-b280-bb0c72926095"
   },
   "outputs": [
    {
     "data": {
      "text/plain": [
       "label\n",
       "original    2384\n",
       "Fake        2208\n",
       "Name: count, dtype: int64"
      ]
     },
     "execution_count": 237,
     "metadata": {},
     "output_type": "execute_result"
    }
   ],
   "source": [
    "dataset['label'].value_counts()"
   ]
  },
  {
   "cell_type": "code",
   "execution_count": 238,
   "metadata": {
    "colab": {
     "base_uri": "https://localhost:8080/"
    },
    "id": "grJXV7cD85q4",
    "outputId": "94b2ba2b-4245-447b-9051-88808ee1b874"
   },
   "outputs": [
    {
     "data": {
      "text/plain": [
       "((3673, 3), (919, 3))"
      ]
     },
     "execution_count": 238,
     "metadata": {},
     "output_type": "execute_result"
    }
   ],
   "source": [
    "from sklearn.model_selection import train_test_split\n",
    "\n",
    "train_df, test_df = train_test_split(dataset, test_size=0.2, random_state=42)\n",
    "train_df.shape, test_df.shape"
   ]
  },
  {
   "cell_type": "code",
   "execution_count": 239,
   "metadata": {
    "colab": {
     "base_uri": "https://localhost:8080/"
    },
    "id": "7-G8Wrls8_QM",
    "outputId": "7fc0e330-ff90-4b0a-e82a-a644c8a7a9ad"
   },
   "outputs": [
    {
     "data": {
      "text/plain": [
       "label\n",
       "original    1889\n",
       "Fake        1784\n",
       "Name: count, dtype: int64"
      ]
     },
     "execution_count": 239,
     "metadata": {},
     "output_type": "execute_result"
    }
   ],
   "source": [
    "train_df['label'].value_counts()"
   ]
  },
  {
   "cell_type": "code",
   "execution_count": 240,
   "metadata": {
    "colab": {
     "base_uri": "https://localhost:8080/"
    },
    "id": "MzmKVsaN88aq",
    "outputId": "0e2e05b6-e961-4157-a45b-bf36e106a14f"
   },
   "outputs": [
    {
     "data": {
      "text/plain": [
       "label\n",
       "original    495\n",
       "Fake        424\n",
       "Name: count, dtype: int64"
      ]
     },
     "execution_count": 240,
     "metadata": {},
     "output_type": "execute_result"
    }
   ],
   "source": [
    "test_df['label'].value_counts()"
   ]
  },
  {
   "cell_type": "code",
   "execution_count": 241,
   "metadata": {
    "id": "33DnzDar9DTF"
   },
   "outputs": [],
   "source": [
    "y_train_raw = train_df['label'].replace([\"original\", \"Fake\"], [0, 1]).to_numpy()\n",
    "y_test_raw = test_df['label'].replace([\"original\", \"Fake\"], [0, 1]).to_numpy()"
   ]
  },
  {
   "cell_type": "code",
   "execution_count": 242,
   "metadata": {
    "id": "gGJKgO7q9NWn"
   },
   "outputs": [],
   "source": [
    "import numpy as np\n",
    "\n",
    "y_train = [[0, 0] for _ in range(len(y_train_raw))]\n",
    "for i, j in enumerate(y_train_raw):\n",
    "    y_train[i][j] = 1  # j is already the index (0 or 1)\n",
    "y_train = np.array(y_train, dtype=np.float32)\n",
    "\n",
    "y_test = [[0, 0] for _ in range(len(y_test_raw))]\n",
    "for i, j in enumerate(y_test_raw):\n",
    "    y_test[i][j] = 1  # j is already the index (0 or 1)\n",
    "y_test = np.array(y_test, dtype=np.float32)"
   ]
  },
  {
   "cell_type": "code",
   "execution_count": 243,
   "metadata": {
    "colab": {
     "base_uri": "https://localhost:8080/"
    },
    "id": "Dy4XOs8t9PzO",
    "outputId": "d0d0bb75-db2f-4a39-b84b-c8c7a24f5cd1"
   },
   "outputs": [
    {
     "data": {
      "text/plain": [
       "((3673, 2), array([1., 0.], dtype=float32))"
      ]
     },
     "execution_count": 243,
     "metadata": {},
     "output_type": "execute_result"
    }
   ],
   "source": [
    "y_train.shape, y_train[0]"
   ]
  },
  {
   "cell_type": "markdown",
   "metadata": {
    "id": "lLGUhC6c9qVX"
   },
   "source": [
    "## BERT"
   ]
  },
  {
   "cell_type": "code",
   "execution_count": 244,
   "metadata": {
    "colab": {
     "base_uri": "https://localhost:8080/"
    },
    "id": "FHiZpXTI9m3F",
    "outputId": "633fe847-e685-4721-c99d-461a3489ad5e"
   },
   "outputs": [
    {
     "name": "stderr",
     "output_type": "stream",
     "text": [
      "Some weights of the PyTorch model were not used when initializing the TF 2.0 model TFBertModel: ['cls.predictions.transform.dense.bias', 'cls.seq_relationship.bias', 'cls.predictions.transform.dense.weight', 'cls.predictions.transform.LayerNorm.bias', 'cls.predictions.bias', 'cls.seq_relationship.weight', 'cls.predictions.transform.LayerNorm.weight']\n",
      "- This IS expected if you are initializing TFBertModel from a PyTorch model trained on another task or with another architecture (e.g. initializing a TFBertForSequenceClassification model from a BertForPreTraining model).\n",
      "- This IS NOT expected if you are initializing TFBertModel from a PyTorch model that you expect to be exactly identical (e.g. initializing a TFBertForSequenceClassification model from a BertForSequenceClassification model).\n",
      "All the weights of TFBertModel were initialized from the PyTorch model.\n",
      "If your task is similar to the task the model of the checkpoint was trained on, you can already use TFBertModel for predictions without further training.\n"
     ]
    }
   ],
   "source": [
    "from transformers import AutoTokenizer, TFAutoModel\n",
    "\n",
    "model_name = \"bert-base-multilingual-cased\"\n",
    "\n",
    "tokenizer = AutoTokenizer.from_pretrained(model_name)\n",
    "model = TFAutoModel.from_pretrained(model_name)"
   ]
  },
  {
   "cell_type": "code",
   "execution_count": 245,
   "metadata": {
    "id": "9qopmqS89t3b"
   },
   "outputs": [],
   "source": [
    "from tqdm import tqdm\n",
    "\n",
    "MAX_SEQ_LEN = 32\n",
    "\n",
    "train_sequences = train_df['text'].tolist()\n",
    "test_sequences = test_df['text'].tolist()"
   ]
  },
  {
   "cell_type": "code",
   "execution_count": 246,
   "metadata": {
    "colab": {
     "base_uri": "https://localhost:8080/"
    },
    "id": "eenJpG5190LW",
    "outputId": "62ebaa25-4f95-41bd-c609-cd14fbdbf10f"
   },
   "outputs": [
    {
     "data": {
      "text/plain": [
       "{'input_ids': <tf.Tensor: shape=(1, 32), dtype=int32, numpy=\n",
       "array([[  101, 63808, 13005, 98013, 10112, 10144, 13641, 34891, 79313,\n",
       "        11591,   100,   102,     0,     0,     0,     0,     0,     0,\n",
       "            0,     0,     0,     0,     0,     0,     0,     0,     0,\n",
       "            0,     0,     0,     0,     0]], dtype=int32)>, 'token_type_ids': <tf.Tensor: shape=(1, 32), dtype=int32, numpy=\n",
       "array([[0, 0, 0, 0, 0, 0, 0, 0, 0, 0, 0, 0, 0, 0, 0, 0, 0, 0, 0, 0, 0, 0,\n",
       "        0, 0, 0, 0, 0, 0, 0, 0, 0, 0]], dtype=int32)>, 'attention_mask': <tf.Tensor: shape=(1, 32), dtype=int32, numpy=\n",
       "array([[1, 1, 1, 1, 1, 1, 1, 1, 1, 1, 1, 1, 0, 0, 0, 0, 0, 0, 0, 0, 0, 0,\n",
       "        0, 0, 0, 0, 0, 0, 0, 0, 0, 0]], dtype=int32)>}"
      ]
     },
     "execution_count": 246,
     "metadata": {},
     "output_type": "execute_result"
    }
   ],
   "source": [
    "sample = train_sequences[0]\n",
    "\n",
    "tokens = tokenizer(sample, return_tensors=\"tf\", padding=\"max_length\", # It will do the padding and truncation according to MAX_LENGTH\n",
    "                  max_length=MAX_SEQ_LEN, truncation=True)\n",
    "tokens"
   ]
  },
  {
   "cell_type": "code",
   "execution_count": 247,
   "metadata": {
    "colab": {
     "base_uri": "https://localhost:8080/"
    },
    "id": "EtnGARYv93r1",
    "outputId": "ab835923-b528-4824-f248-4269e517bd35"
   },
   "outputs": [
    {
     "data": {
      "text/plain": [
       "<tf.Tensor: shape=(32, 768), dtype=float32, numpy=\n",
       "array([[-0.14401855,  0.10089712,  0.18056183, ...,  0.02070437,\n",
       "         0.09997058, -0.13858134],\n",
       "       [-0.40475535, -0.62465334,  0.11535794, ..., -0.19366829,\n",
       "         0.16337124,  0.08897245],\n",
       "       [-0.8800783 , -0.47413728,  0.01672086, ..., -1.0376315 ,\n",
       "         0.4891776 , -0.13751106],\n",
       "       ...,\n",
       "       [-0.07659303,  0.07679991,  0.25817087, ...,  0.2417214 ,\n",
       "         0.09527288, -0.20176417],\n",
       "       [-0.1095379 ,  0.02748973,  0.27621782, ...,  0.17418478,\n",
       "         0.04412793, -0.23467518],\n",
       "       [-0.13628392,  0.02301504,  0.27775908, ...,  0.1772585 ,\n",
       "         0.04460238, -0.22068295]], dtype=float32)>"
      ]
     },
     "execution_count": 247,
     "metadata": {},
     "output_type": "execute_result"
    }
   ],
   "source": [
    "embedding = model.bert(**tokens).last_hidden_state[0]\n",
    "embedding"
   ]
  },
  {
   "cell_type": "code",
   "execution_count": 248,
   "metadata": {
    "id": "x7DjW6da96i_"
   },
   "outputs": [],
   "source": [
    "import tensorflow as tf\n",
    "\n",
    "def prepare_embeddings(sequences: list[str]):\n",
    "    embeddings = []\n",
    "    for sequence in tqdm(sequences, total=len(sequences)):\n",
    "        tokens = tokenizer(sequence, return_tensors=\"tf\", padding='max_length',\n",
    "                           max_length=MAX_SEQ_LEN, truncation=True)\n",
    "        embedding = model.bert(**tokens).last_hidden_state[0]\n",
    "        embeddings.append(embedding)\n",
    "\n",
    "    return tf.convert_to_tensor(embeddings)"
   ]
  },
  {
   "cell_type": "code",
   "execution_count": 249,
   "metadata": {
    "colab": {
     "base_uri": "https://localhost:8080/"
    },
    "id": "NojbDBHA-DS_",
    "outputId": "f5f51168-4bdc-41bc-bf0b-f92f87cd8b7e"
   },
   "outputs": [
    {
     "name": "stderr",
     "output_type": "stream",
     "text": [
      "100%|██████████| 3673/3673 [30:36<00:00,  2.00it/s]\n"
     ]
    },
    {
     "data": {
      "text/plain": [
       "TensorShape([3673, 32, 768])"
      ]
     },
     "execution_count": 249,
     "metadata": {},
     "output_type": "execute_result"
    }
   ],
   "source": [
    "X_train = prepare_embeddings(train_sequences)\n",
    "X_train.shape"
   ]
  },
  {
   "cell_type": "code",
   "execution_count": 250,
   "metadata": {
    "colab": {
     "base_uri": "https://localhost:8080/"
    },
    "id": "2vS_FOvC-FGJ",
    "outputId": "a2f17da7-6b6b-4648-dda9-5b60527b9f7b"
   },
   "outputs": [
    {
     "name": "stderr",
     "output_type": "stream",
     "text": [
      "100%|██████████| 919/919 [07:17<00:00,  2.10it/s]\n"
     ]
    },
    {
     "data": {
      "text/plain": [
       "TensorShape([919, 32, 768])"
      ]
     },
     "execution_count": 250,
     "metadata": {},
     "output_type": "execute_result"
    }
   ],
   "source": [
    "X_test = prepare_embeddings(test_sequences)\n",
    "X_test.shape"
   ]
  },
  {
   "cell_type": "code",
   "execution_count": 251,
   "metadata": {
    "id": "Y86Ad8t5-GtS"
   },
   "outputs": [],
   "source": [
    "from sklearn.metrics import (\n",
    "    accuracy_score,\n",
    "    f1_score,\n",
    "    precision_score,\n",
    "    recall_score,\n",
    "    roc_auc_score,\n",
    "    confusion_matrix,\n",
    "    ConfusionMatrixDisplay\n",
    ")\n",
    "\n",
    "def evaluate(y_pred):\n",
    "    y_pred = y_pred[:, 1]\n",
    "    accuracy = accuracy_score(y_test[:, 1], y_pred)\n",
    "    precision = precision_score(y_test[:, 1], y_pred)\n",
    "    recall = recall_score(y_test[:, 1], y_pred)\n",
    "    f1 = f1_score(y_test[:, 1], y_pred)\n",
    "    roc_auc = roc_auc_score(y_test[:, 1], y_pred)\n",
    "\n",
    "    print(\"Accuracy - {:.4f}\".format(accuracy))\n",
    "    print(\"Precision - {:.4f}\".format(precision))\n",
    "    print(\"Recall - {:.4f}\".format(recall))\n",
    "    print(\"F1 - {:.4f}\".format(f1))\n",
    "    #print(\"ROC-AUC - {:.4f}\".format(roc_auc))\n",
    "\n",
    "    cm = confusion_matrix(y_test[:, 1], y_pred)\n",
    "    disp = ConfusionMatrixDisplay(confusion_matrix=cm)\n",
    "    disp.plot()\n",
    "    plt.show()\n",
    "\n",
    "    return {\n",
    "        \"accuracy\": accuracy,\n",
    "        \"precision\": precision,\n",
    "        \"recall\": recall,\n",
    "        \"f1\": f1,\n",
    "        #\"ROC-AUC\": roc_auc\n",
    "    }"
   ]
  },
  {
   "cell_type": "code",
   "execution_count": 252,
   "metadata": {
    "id": "YzvuavxQ6Jro"
   },
   "outputs": [],
   "source": [
    "model_scores = []"
   ]
  },
  {
   "cell_type": "code",
   "execution_count": 253,
   "metadata": {
    "id": "9jOrN4TfklEw"
   },
   "outputs": [],
   "source": [
    "from keras.preprocessing.text import Tokenizer\n",
    "from keras.preprocessing.sequence import pad_sequences\n",
    "\n",
    "tokenizer = Tokenizer()\n",
    "tokenizer.fit_on_texts(dataset['text'])\n",
    "sequences = tokenizer.texts_to_sequences(dataset['text'])\n",
    "data = pad_sequences(sequences)"
   ]
  },
  {
   "cell_type": "markdown",
   "metadata": {
    "id": "1I8VHWYkMAmC"
   },
   "source": [
    "## Logistic Regression"
   ]
  },
  {
   "cell_type": "code",
   "execution_count": 254,
   "metadata": {
    "id": "6symxZySMNSq"
   },
   "outputs": [],
   "source": [
    "import os\n",
    "import pandas as pd\n",
    "import numpy as np\n",
    "import matplotlib.pyplot as plt\n",
    "import seaborn as sns\n",
    "from random import choice\n",
    "from sklearn.model_selection import train_test_split\n",
    "from sklearn.model_selection import cross_validate\n",
    "from sklearn.linear_model import LogisticRegression\n",
    "from sklearn.neighbors import KNeighborsClassifier\n",
    "from sklearn.naive_bayes import MultinomialNB, BernoulliNB\n",
    "from sklearn.tree import DecisionTreeClassifier\n",
    "from sklearn.svm import SVC\n",
    "from sklearn.ensemble import RandomForestClassifier, GradientBoostingClassifier\n",
    "from sklearn.metrics import accuracy_score, f1_score, precision_score, recall_score, roc_auc_score, confusion_matrix, ConfusionMatrixDisplay\n",
    "from transformers import BertTokenizer, BertModel\n",
    "import torch"
   ]
  },
  {
   "cell_type": "code",
   "execution_count": 255,
   "metadata": {
    "id": "f3HpRwlmjdoZ"
   },
   "outputs": [],
   "source": [
    "def evaluate1(y_pred):\n",
    "    accuracy = accuracy_score(y_test_1d, y_pred) # Use y_test_1d which is a 1D array\n",
    "    # accuracy = accuracy_score(y_test, y_pred) # Remove this line as it causes error\n",
    "    precision = precision_score(y_test_1d, y_pred) # Use y_test_1d\n",
    "    recall = recall_score(y_test_1d, y_pred) # Use y_test_1d\n",
    "    f1 = f1_score(y_test_1d, y_pred) # Use y_test_1d\n",
    "    # roc_auc = roc_auc_score(y_test, y_pred) # ROC-AUC score is not applicable for multi-class classification\n",
    "    cm = confusion_matrix(y_test_1d, y_pred) # Use y_test_1d\n",
    "    disp = ConfusionMatrixDisplay(confusion_matrix=cm)\n",
    "    disp.plot()\n",
    "    plt.show()\n",
    "    print(\"Accuracy - {:.4f}\".format(accuracy))\n",
    "    print(\"Precision - {:.4f}\".format(precision))\n",
    "    print(\"Recall - {:.4f}\".format(recall))\n",
    "    print(\"F1 - {:.4f}\".format(f1))\n",
    "    # print(\"ROC-AUC - {:.4f}\".format(roc_auc)) # Remove ROC-AUC score\n",
    "\n",
    "    return {\n",
    "        \"accuracy\": accuracy,\n",
    "        \"precision\": precision,\n",
    "        \"recall\": recall,\n",
    "        \"f1\": f1} # Remove ROC-AUC score"
   ]
  },
  {
   "cell_type": "markdown",
   "metadata": {
    "id": "8iGV1uj3_XRs"
   },
   "source": [
    "## Logistic Regression"
   ]
  },
  {
   "cell_type": "code",
   "execution_count": 256,
   "metadata": {
    "id": "7rDtUD61MFde"
   },
   "outputs": [],
   "source": [
    "# Assuming y_train is a 2D array with one-hot encoded labels\n",
    "y_train_1d = np.argmax(y_train, axis=1)  # Convert to 1D array of labels\n",
    "\n",
    "# Initialize the logistic regression model\n",
    "model = LogisticRegression()\n",
    "\n",
    "# Train the model using the 1D target array\n",
    "model.fit(X_train_flattened, y_train_1d)\n",
    "\n",
    "# Make predictions (use flattened X_test)\n",
    "y_pred = model.predict(X_test_flattened)"
   ]
  },
  {
   "cell_type": "code",
   "execution_count": 257,
   "metadata": {
    "colab": {
     "base_uri": "https://localhost:8080/",
     "height": 527
    },
    "id": "PPWtLAfDi7md",
    "outputId": "fdcee88f-e2c3-4843-ff03-da9f824699d8"
   },
   "outputs": [
    {
     "data": {
      "image/png": "[encoded data removed]",
      "text/plain": [
       "<Figure size 640x480 with 2 Axes>"
      ]
     },
     "metadata": {},
     "output_type": "display_data"
    },
    {
     "name": "stdout",
     "output_type": "stream",
     "text": [
      "Accuracy - 0.6964\n",
      "Precision - 0.6706\n",
      "Recall - 0.6722\n",
      "F1 - 0.6714\n"
     ]
    }
   ],
   "source": [
    "scores = evaluate1(y_pred)  # Assuming 'evaluate' function is defined elsewhere\n",
    "scores['model'] = \"Logistic Regression\"\n",
    "model_scores.append(scores)"
   ]
  },
  {
   "cell_type": "markdown",
   "metadata": {
    "id": "h-ng8CHrkjEd"
   },
   "source": [
    "## KNN"
   ]
  },
  {
   "cell_type": "code",
   "execution_count": 258,
   "metadata": {
    "id": "8Q3v-OYpkl2I"
   },
   "outputs": [],
   "source": [
    "# Assuming X_train is also an EagerTensor of shape (num_samples, 32, 768)\n",
    "X_train_flattened = X_train.numpy().reshape(X_train.shape[0], -1)  # Flatten the embeddings\n",
    "X_test_flattened = X_test.numpy().reshape(X_test.shape[0], -1)\n",
    "\n",
    "# Initialize the KNN model\n",
    "model = KNeighborsClassifier()\n",
    "\n",
    "# Train the model using the 1D target array (same as for Logistic Regression)\n",
    "model.fit(X_train_flattened, y_train_1d)  # Use y_train_1d\n",
    "\n",
    "# Make predictions (use flattened X_test)\n",
    "y_pred = model.predict(X_test_flattened)"
   ]
  },
  {
   "cell_type": "code",
   "execution_count": 259,
   "metadata": {
    "colab": {
     "base_uri": "https://localhost:8080/",
     "height": 527
    },
    "id": "bfHoUBNplCae",
    "outputId": "4907ca75-0b13-4241-ff77-49ae309c17f1"
   },
   "outputs": [
    {
     "data": {
      "image/png": "[encoded data removed]",
      "text/plain": [
       "<Figure size 640x480 with 2 Axes>"
      ]
     },
     "metadata": {},
     "output_type": "display_data"
    },
    {
     "name": "stdout",
     "output_type": "stream",
     "text": [
      "Accuracy - 0.6322\n",
      "Precision - 0.7312\n",
      "Recall - 0.3208\n",
      "F1 - 0.4459\n"
     ]
    }
   ],
   "source": [
    "scores = evaluate1(y_pred)\n",
    "scores['model'] = \"KNN\"\n",
    "model_scores.append(scores)"
   ]
  },
  {
   "cell_type": "markdown",
   "metadata": {
    "id": "dAlReJdclFok"
   },
   "source": [
    "## Naive Bayes"
   ]
  },
  {
   "cell_type": "code",
   "execution_count": 260,
   "metadata": {
    "id": "7rQ7-RbplJ7U"
   },
   "outputs": [],
   "source": [
    "# Bernoulli Naive Bayes\n",
    "from sklearn.naive_bayes import BernoulliNB\n",
    "model_bnb = BernoulliNB()\n",
    "\n",
    "# Assuming y_train is one-hot encoded, convert to 1D array of labels\n",
    "y_train_1d = np.argmax(y_train, axis=1)\n",
    "\n",
    "model_bnb.fit(X_train_flattened, y_train_1d) # Use the 1D labels\n",
    "y_pred_bnb = model_bnb.predict(X_test_flattened)"
   ]
  },
  {
   "cell_type": "code",
   "execution_count": 261,
   "metadata": {
    "colab": {
     "base_uri": "https://localhost:8080/",
     "height": 527
    },
    "id": "ca4TdOUhlaxL",
    "outputId": "34650677-163b-42c2-bdc5-7e9c57b2616e"
   },
   "outputs": [
    {
     "data": {
      "image/png": "[encoded data removed]",
      "text/plain": [
       "<Figure size 640x480 with 2 Axes>"
      ]
     },
     "metadata": {},
     "output_type": "display_data"
    },
    {
     "name": "stdout",
     "output_type": "stream",
     "text": [
      "Accuracy - 0.6779\n",
      "Precision - 0.6422\n",
      "Recall - 0.6816\n",
      "F1 - 0.6613\n"
     ]
    }
   ],
   "source": [
    "scores_bnb = evaluate1(y_pred_bnb)\n",
    "scores_bnb['model'] = \"Bernoulli Naive Bayes\"\n",
    "model_scores.append(scores_bnb)"
   ]
  },
  {
   "cell_type": "markdown",
   "metadata": {
    "id": "1pZMSSkRld0k"
   },
   "source": [
    "## Decision Tree"
   ]
  },
  {
   "cell_type": "code",
   "execution_count": 262,
   "metadata": {
    "id": "9bdCpoS0OKNm"
   },
   "outputs": [],
   "source": [
    "def evaluate2(y_pred):\n",
    "    # Convert y_pred to 1D array of predicted labels\n",
    "    y_pred_1d = np.argmax(y_pred, axis=1)\n",
    "\n",
    "    accuracy = accuracy_score(y_test_1d, y_pred_1d)\n",
    "    precision = precision_score(y_test_1d, y_pred_1d)\n",
    "    recall = recall_score(y_test_1d, y_pred_1d)\n",
    "    f1 = f1_score(y_test_1d, y_pred_1d)\n",
    "    cm = confusion_matrix(y_test_1d, y_pred_1d) # Use y_pred_1d here as well\n",
    "    # roc_auc = roc_auc_score(y_test, y_pred) # ROC-AUC score is not applicable for multi-class\n",
    "    disp = ConfusionMatrixDisplay(confusion_matrix=cm)\n",
    "    disp.plot()\n",
    "    plt.show()\n",
    "    print(\"Accuracy - {:.4f}\".format(accuracy))\n",
    "    print(\"Precision - {:.4f}\".format(precision))\n",
    "    print(\"Recall - {:.4f}\".format(recall))\n",
    "    print(\"F1 - {:.4f}\".format(f1))\n",
    "    # print(\"ROC-AUC - {:.4f}\".format(roc_auc)) # Remove ROC-AUC score\n",
    "\n",
    "    return {\n",
    "        \"accuracy\": accuracy,\n",
    "        \"precision\": precision,\n",
    "        \"recall\": recall,\n",
    "        \"f1\": f1} # Remove ROC-AUC score"
   ]
  },
  {
   "cell_type": "code",
   "execution_count": 263,
   "metadata": {
    "collapsed": true,
    "id": "UaaBW6gnlht2",
    "jupyter": {
     "outputs_hidden": true
    }
   },
   "outputs": [],
   "source": [
    "from sklearn.tree import DecisionTreeClassifier\n",
    "\n",
    "# Initialize the Decision Tree model\n",
    "model_dt = DecisionTreeClassifier()\n",
    "\n",
    "# Train the model\n",
    "model_dt.fit(X_train_flattened, y_train)\n",
    "\n",
    "# Make predictions\n",
    "y_pred_dt = model_dt.predict(X_test_flattened)"
   ]
  },
  {
   "cell_type": "code",
   "execution_count": 264,
   "metadata": {
    "colab": {
     "base_uri": "https://localhost:8080/",
     "height": 527
    },
    "id": "6pf-R-6tlphG",
    "outputId": "92532e54-0cc9-4503-d8c0-b60d0685d487"
   },
   "outputs": [
    {
     "data": {
      "image/png": "[encoded data removed]",
      "text/plain": [
       "<Figure size 640x480 with 2 Axes>"
      ]
     },
     "metadata": {},
     "output_type": "display_data"
    },
    {
     "name": "stdout",
     "output_type": "stream",
     "text": [
      "Accuracy - 0.6148\n",
      "Precision - 0.5803\n",
      "Recall - 0.5967\n",
      "F1 - 0.5884\n"
     ]
    }
   ],
   "source": [
    "scores_dt = evaluate2(y_pred_dt)\n",
    "scores_dt['model'] = \"Decision Tree\"\n",
    "model_scores.append(scores_dt)"
   ]
  },
  {
   "cell_type": "markdown",
   "metadata": {
    "id": "ktgBc6xZl17q"
   },
   "source": [
    "## SVM"
   ]
  },
  {
   "cell_type": "code",
   "execution_count": 265,
   "metadata": {
    "id": "oSS5Mak8l1jd"
   },
   "outputs": [],
   "source": [
    "import numpy as np\n",
    "\n",
    "if y_train.ndim == 2:\n",
    "    y_train = np.argmax(y_train, axis=1)\n",
    "if y_test.ndim == 2:\n",
    "    y_test = np.argmax(y_test, axis=1)\n",
    "from sklearn.svm import SVC\n",
    "\n",
    "# Initialize the SVM model\n",
    "model_svm = SVC()\n",
    "\n",
    "# Train the model\n",
    "model_svm.fit(X_train_flattened, y_train)\n",
    "\n",
    "# Make predictions\n",
    "y_pred_svm = model_svm.predict(X_test_flattened)\n"
   ]
  },
  {
   "cell_type": "code",
   "execution_count": 266,
   "metadata": {
    "colab": {
     "base_uri": "https://localhost:8080/",
     "height": 530
    },
    "id": "GUIONjqvl6B2",
    "outputId": "b845d6d8-5f47-42fe-ce68-7a7fa42518f5"
   },
   "outputs": [
    {
     "data": {
      "image/png": "[encoded data removed]",
      "text/plain": [
       "<Figure size 640x480 with 2 Axes>"
      ]
     },
     "metadata": {},
     "output_type": "display_data"
    },
    {
     "name": "stdout",
     "output_type": "stream",
     "text": [
      "Accuracy - 0.7584\n",
      "Precision - 0.7603\n",
      "Recall - 0.6958\n",
      "F1 - 0.7266\n"
     ]
    }
   ],
   "source": [
    "scores_svm = evaluate1(y_pred_svm)\n",
    "scores_svm['model'] = \"SVM\"\n",
    "model_scores.append(scores_svm)"
   ]
  },
  {
   "cell_type": "markdown",
   "metadata": {
    "id": "sTTA6gECn17i"
   },
   "source": [
    "## Random Forest"
   ]
  },
  {
   "cell_type": "code",
   "execution_count": 267,
   "metadata": {
    "id": "Rh7ncThXoE9d"
   },
   "outputs": [],
   "source": [
    "from sklearn.ensemble import RandomForestClassifier\n",
    "\n",
    "# Initialize the Random Forest model\n",
    "model_rf = RandomForestClassifier()\n",
    "\n",
    "# Train the model\n",
    "model_rf.fit(X_train_flattened, y_train)\n",
    "\n",
    "# Make predictions\n",
    "y_pred_rf = model_rf.predict(X_test_flattened)"
   ]
  },
  {
   "cell_type": "code",
   "execution_count": 268,
   "metadata": {
    "colab": {
     "base_uri": "https://localhost:8080/",
     "height": 527
    },
    "id": "aXd5ehJyoHgO",
    "outputId": "b9bcec43-8386-44c2-b32b-08b6c079f274"
   },
   "outputs": [
    {
     "data": {
      "image/png": "[encoded data removed]",
      "text/plain": [
       "<Figure size 640x480 with 2 Axes>"
      ]
     },
     "metadata": {},
     "output_type": "display_data"
    },
    {
     "name": "stdout",
     "output_type": "stream",
     "text": [
      "Accuracy - 0.6855\n",
      "Precision - 0.6573\n",
      "Recall - 0.6651\n",
      "F1 - 0.6612\n"
     ]
    }
   ],
   "source": [
    "scores_rf = evaluate1(y_pred_rf)\n",
    "scores_rf['model'] = \"Random Forest\"\n",
    "model_scores.append(scores_rf)"
   ]
  },
  {
   "cell_type": "markdown",
   "metadata": {
    "id": "ra9dvkwr6SJU"
   },
   "source": [
    "## Feed Forward Network"
   ]
  },
  {
   "cell_type": "code",
   "execution_count": 269,
   "metadata": {
    "colab": {
     "base_uri": "https://localhost:8080/"
    },
    "id": "6Asbxe8A6OJD",
    "outputId": "6117e9ea-d1f0-4e1f-aaa2-ea1bc0714fc4"
   },
   "outputs": [
    {
     "name": "stdout",
     "output_type": "stream",
     "text": [
      "Epoch 1/5\n",
      "115/115 [==============================] - 5s 39ms/step - loss: 0.8007 - accuracy: 0.6099\n",
      "Epoch 2/5\n",
      "115/115 [==============================] - 4s 38ms/step - loss: 0.5798 - accuracy: 0.7354\n",
      "Epoch 3/5\n",
      "115/115 [==============================] - 6s 52ms/step - loss: 0.4496 - accuracy: 0.7901\n",
      "Epoch 4/5\n",
      "115/115 [==============================] - 4s 38ms/step - loss: 0.3407 - accuracy: 0.8582\n",
      "Epoch 5/5\n",
      "115/115 [==============================] - 5s 41ms/step - loss: 0.2868 - accuracy: 0.8884\n"
     ]
    }
   ],
   "source": [
    "import tensorflow as tf\n",
    "from tensorflow.keras.layers import Dense, LSTM, Conv2D, MaxPool2D, Flatten, Bidirectional, Dropout, Reshape, Concatenate, Input\n",
    "\n",
    "ffn = tf.keras.Sequential([\n",
    "    Input(shape=(MAX_SEQ_LEN, 768)),\n",
    "    Flatten(),\n",
    "    Dense(128, activation='relu'),\n",
    "    Dense(1, activation='sigmoid') # Change to a single output with sigmoid\n",
    "])\n",
    "\n",
    "ffn.compile(loss='binary_crossentropy',\n",
    "            optimizer='adam',\n",
    "            metrics=['accuracy'])\n",
    "history = ffn.fit(X_train, y_train, epochs=5)"
   ]
  },
  {
   "cell_type": "code",
   "execution_count": 270,
   "metadata": {
    "colab": {
     "base_uri": "https://localhost:8080/",
     "height": 545
    },
    "id": "W4d-9cfB6aHM",
    "outputId": "4fc7c568-3913-403e-ae0a-35f9e41c8f9f"
   },
   "outputs": [
    {
     "name": "stdout",
     "output_type": "stream",
     "text": [
      "29/29 [==============================] - 0s 8ms/step\n"
     ]
    },
    {
     "data": {
      "image/png": "[encoded data removed]",
      "text/plain": [
       "<Figure size 640x480 with 2 Axes>"
      ]
     },
     "metadata": {},
     "output_type": "display_data"
    },
    {
     "name": "stdout",
     "output_type": "stream",
     "text": [
      "Accuracy - 0.7421\n",
      "Precision - 0.7055\n",
      "Recall - 0.7571\n",
      "F1 - 0.7304\n"
     ]
    }
   ],
   "source": [
    "y_pred = np.round(ffn.predict(X_test))\n",
    "scores = evaluate1(y_pred)\n",
    "scores['model'] = \"ffn\"\n",
    "model_scores.append(scores)"
   ]
  },
  {
   "cell_type": "markdown",
   "metadata": {
    "id": "xXPJurtf61EY"
   },
   "source": [
    "## LSTM"
   ]
  },
  {
   "cell_type": "code",
   "execution_count": 271,
   "metadata": {
    "colab": {
     "base_uri": "https://localhost:8080/"
    },
    "id": "uHHXvvoz6vXA",
    "outputId": "d3715146-7b2c-4828-d47c-0c047b2ca73f"
   },
   "outputs": [
    {
     "name": "stdout",
     "output_type": "stream",
     "text": [
      "Epoch 1/5\n",
      "115/115 [==============================] - 17s 114ms/step - loss: 0.5861 - accuracy: 0.6880\n",
      "Epoch 2/5\n",
      "115/115 [==============================] - 11s 95ms/step - loss: 0.4881 - accuracy: 0.7661\n",
      "Epoch 3/5\n",
      "115/115 [==============================] - 9s 77ms/step - loss: 0.4356 - accuracy: 0.8067\n",
      "Epoch 4/5\n",
      "115/115 [==============================] - 11s 95ms/step - loss: 0.3600 - accuracy: 0.8391\n",
      "Epoch 5/5\n",
      "115/115 [==============================] - 13s 114ms/step - loss: 0.3133 - accuracy: 0.8582\n"
     ]
    },
    {
     "data": {
      "text/plain": [
       "<keras.src.callbacks.History at 0x7c70ebaa40d0>"
      ]
     },
     "execution_count": 271,
     "metadata": {},
     "output_type": "execute_result"
    }
   ],
   "source": [
    "lstm = tf.keras.Sequential([\n",
    "    LSTM(64, return_sequences=True),\n",
    "    LSTM(64, return_sequences=True),\n",
    "    LSTM(64, return_sequences=True),\n",
    "    Flatten(),\n",
    "    Dense(128, activation='relu'),\n",
    "    Dense(1, activation='sigmoid')  # Change to sigmoid for binary classification\n",
    "])\n",
    "\n",
    "lstm.compile(loss='binary_crossentropy',\n",
    "             optimizer='adam',\n",
    "             metrics=['accuracy'])\n",
    "\n",
    "lstm.fit(X_train, y_train, epochs=5)"
   ]
  },
  {
   "cell_type": "code",
   "execution_count": 272,
   "metadata": {
    "colab": {
     "base_uri": "https://localhost:8080/",
     "height": 550
    },
    "id": "cY5ArlS97Snf",
    "outputId": "36894937-b360-47f5-c7d3-85ce7df4639e"
   },
   "outputs": [
    {
     "name": "stdout",
     "output_type": "stream",
     "text": [
      "29/29 [==============================] - 1s 31ms/step\n"
     ]
    },
    {
     "data": {
      "image/png": "[encoded data removed]",
      "text/plain": [
       "<Figure size 640x480 with 2 Axes>"
      ]
     },
     "metadata": {},
     "output_type": "display_data"
    },
    {
     "name": "stdout",
     "output_type": "stream",
     "text": [
      "Accuracy - 0.7421\n",
      "Precision - 0.7493\n",
      "Recall - 0.6627\n",
      "F1 - 0.7034\n"
     ]
    }
   ],
   "source": [
    "y_pred = np.round(lstm.predict(X_test))\n",
    "scores = evaluate1(y_pred)\n",
    "scores['model'] = \"lstm\"\n",
    "model_scores.append(scores)"
   ]
  },
  {
   "cell_type": "markdown",
   "metadata": {
    "id": "UQ0QSz0W7xYA"
   },
   "source": [
    "## BiLSTM"
   ]
  },
  {
   "cell_type": "code",
   "execution_count": 273,
   "metadata": {
    "colab": {
     "base_uri": "https://localhost:8080/"
    },
    "id": "gMz1skm67qDj",
    "outputId": "12f74084-9b34-45da-c2e9-73df5ac21f96"
   },
   "outputs": [
    {
     "name": "stdout",
     "output_type": "stream",
     "text": [
      "Epoch 1/5\n",
      "115/115 [==============================] - 30s 170ms/step - loss: 0.5858 - accuracy: 0.6978\n",
      "Epoch 2/5\n",
      "115/115 [==============================] - 19s 168ms/step - loss: 0.4937 - accuracy: 0.7615\n",
      "Epoch 3/5\n",
      "115/115 [==============================] - 22s 189ms/step - loss: 0.4215 - accuracy: 0.8040\n",
      "Epoch 4/5\n",
      "115/115 [==============================] - 20s 171ms/step - loss: 0.3572 - accuracy: 0.8399\n",
      "Epoch 5/5\n",
      "115/115 [==============================] - 19s 170ms/step - loss: 0.3089 - accuracy: 0.8680\n"
     ]
    },
    {
     "data": {
      "text/plain": [
       "<keras.src.callbacks.History at 0x7c70e734dc30>"
      ]
     },
     "execution_count": 273,
     "metadata": {},
     "output_type": "execute_result"
    }
   ],
   "source": [
    "bilstm = tf.keras.Sequential([\n",
    "    Bidirectional(LSTM(64, return_sequences=True)),\n",
    "    Bidirectional(LSTM(64, return_sequences=True)),\n",
    "    Bidirectional(LSTM(64, return_sequences=True)),\n",
    "    Flatten(),\n",
    "    Dense(128, activation='relu'),\n",
    "    Dense(1, activation='sigmoid')  # Change to a single unit with sigmoid for binary classification\n",
    "])\n",
    "\n",
    "bilstm.compile(loss='binary_crossentropy',\n",
    "             optimizer='adam',\n",
    "             metrics=['accuracy'])\n",
    "\n",
    "bilstm.fit(X_train, y_train, epochs=5)"
   ]
  },
  {
   "cell_type": "code",
   "execution_count": 274,
   "metadata": {
    "colab": {
     "base_uri": "https://localhost:8080/",
     "height": 545
    },
    "id": "XGOSCq5o70O9",
    "outputId": "96010c3f-3333-4c2b-abe4-8230d51eb598"
   },
   "outputs": [
    {
     "name": "stdout",
     "output_type": "stream",
     "text": [
      "29/29 [==============================] - 4s 92ms/step\n"
     ]
    },
    {
     "data": {
      "image/png": "[encoded data removed]",
      "text/plain": [
       "<Figure size 640x480 with 2 Axes>"
      ]
     },
     "metadata": {},
     "output_type": "display_data"
    },
    {
     "name": "stdout",
     "output_type": "stream",
     "text": [
      "Accuracy - 0.7726\n",
      "Precision - 0.7641\n",
      "Recall - 0.7335\n",
      "F1 - 0.7485\n"
     ]
    }
   ],
   "source": [
    "y_pred = np.round(bilstm.predict(X_test))\n",
    "scores = evaluate1(y_pred)\n",
    "scores['model'] = \"bilstm\"\n",
    "model_scores.append(scores)"
   ]
  },
  {
   "cell_type": "markdown",
   "metadata": {
    "id": "MlkUiiNx8fyr"
   },
   "source": [
    "## CNN"
   ]
  },
  {
   "cell_type": "code",
   "execution_count": 275,
   "metadata": {
    "colab": {
     "base_uri": "https://localhost:8080/"
    },
    "id": "aeTw881V8X1t",
    "outputId": "d07cb7f2-0954-47e9-e61b-a17961a942b3"
   },
   "outputs": [
    {
     "name": "stdout",
     "output_type": "stream",
     "text": [
      "Epoch 1/5\n",
      "115/115 [==============================] - 4s 29ms/step - loss: 0.6267 - accuracy: 0.6572\n",
      "Epoch 2/5\n",
      "115/115 [==============================] - 3s 30ms/step - loss: 0.4664 - accuracy: 0.7748\n",
      "Epoch 3/5\n",
      "115/115 [==============================] - 5s 46ms/step - loss: 0.3655 - accuracy: 0.8366\n",
      "Epoch 4/5\n",
      "115/115 [==============================] - 3s 29ms/step - loss: 0.2718 - accuracy: 0.8884\n",
      "Epoch 5/5\n",
      "115/115 [==============================] - 3s 29ms/step - loss: 0.1723 - accuracy: 0.9360\n"
     ]
    },
    {
     "data": {
      "text/plain": [
       "<keras.src.callbacks.History at 0x7c70eacda770>"
      ]
     },
     "execution_count": 275,
     "metadata": {},
     "output_type": "execute_result"
    }
   ],
   "source": [
    "cnn = tf.keras.Sequential([\n",
    "    Input(shape=(MAX_SEQ_LEN, 768)),\n",
    "    Reshape((MAX_SEQ_LEN, 768, 1)),\n",
    "    Conv2D(64, kernel_size=(3, 768), padding=\"valid\",\n",
    "           kernel_initializer=\"normal\", activation='relu'),\n",
    "    MaxPool2D((2, 1), (2, 1)),\n",
    "    Flatten(),\n",
    "    Dense(128, activation='relu'),\n",
    "    Dropout(0.3),\n",
    "    Dense(1, activation='sigmoid')  # Change to a single unit with sigmoid for binary classification\n",
    "])\n",
    "\n",
    "cnn.compile(loss='binary_crossentropy',\n",
    "            optimizer='adam',\n",
    "            metrics=['accuracy'])\n",
    "\n",
    "cnn.fit(X_train, y_train, epochs=5)"
   ]
  },
  {
   "cell_type": "code",
   "execution_count": 276,
   "metadata": {
    "colab": {
     "base_uri": "https://localhost:8080/",
     "height": 545
    },
    "id": "AO1XFFqb8ibP",
    "outputId": "3898052d-45dd-405b-bf06-e0d4c1cd62e7"
   },
   "outputs": [
    {
     "name": "stdout",
     "output_type": "stream",
     "text": [
      "29/29 [==============================] - 0s 8ms/step\n"
     ]
    },
    {
     "data": {
      "image/png": "[encoded data removed]",
      "text/plain": [
       "<Figure size 640x480 with 2 Axes>"
      ]
     },
     "metadata": {},
     "output_type": "display_data"
    },
    {
     "name": "stdout",
     "output_type": "stream",
     "text": [
      "Accuracy - 0.7530\n",
      "Precision - 0.7627\n",
      "Recall - 0.6745\n",
      "F1 - 0.7159\n"
     ]
    }
   ],
   "source": [
    "y_pred = np.round(cnn.predict(X_test))\n",
    "scores = evaluate1(y_pred)\n",
    "scores['model'] = \"cnn\"\n",
    "model_scores.append(scores)"
   ]
  },
  {
   "cell_type": "markdown",
   "metadata": {
    "id": "2wNZXkUXAXBo"
   },
   "source": [
    "## RNN"
   ]
  },
  {
   "cell_type": "code",
   "execution_count": 277,
   "metadata": {
    "colab": {
     "base_uri": "https://localhost:8080/"
    },
    "id": "TCjwjkoYAYoy",
    "outputId": "d2126bd0-1096-41b6-bad7-b8426d3ea9f4"
   },
   "outputs": [
    {
     "name": "stdout",
     "output_type": "stream",
     "text": [
      "Epoch 1/5\n",
      "115/115 [==============================] - 8s 44ms/step - loss: 0.6440 - accuracy: 0.6316\n",
      "Epoch 2/5\n",
      "115/115 [==============================] - 4s 39ms/step - loss: 0.5588 - accuracy: 0.7147\n",
      "Epoch 3/5\n",
      "115/115 [==============================] - 7s 59ms/step - loss: 0.5367 - accuracy: 0.7389\n",
      "Epoch 4/5\n",
      "115/115 [==============================] - 5s 39ms/step - loss: 0.4866 - accuracy: 0.7691\n",
      "Epoch 5/5\n",
      "115/115 [==============================] - 4s 39ms/step - loss: 0.4135 - accuracy: 0.8138\n"
     ]
    },
    {
     "data": {
      "text/plain": [
       "<keras.src.callbacks.History at 0x7c7083fd2aa0>"
      ]
     },
     "execution_count": 277,
     "metadata": {},
     "output_type": "execute_result"
    }
   ],
   "source": [
    "from tensorflow.keras.layers import SimpleRNN\n",
    "\n",
    "# Define the RNN model\n",
    "model_rnn = tf.keras.Sequential([  # Change variable name to model_rnn\n",
    "    Input(shape=(MAX_SEQ_LEN, 768)),\n",
    "    SimpleRNN(128, return_sequences=True),  # RNN layer with 128 units\n",
    "    SimpleRNN(128),  # Another RNN layer\n",
    "    Dense(128, activation='relu'),\n",
    "    Dropout(0.3),\n",
    "    Dense(1, activation='sigmoid')  # Change to a single unit with sigmoid for binary classification\n",
    "])\n",
    "\n",
    "model_rnn.compile(loss='binary_crossentropy',\n",
    "            optimizer='adam',\n",
    "            metrics=['accuracy'])\n",
    "\n",
    "model_rnn.fit(X_train, y_train, epochs=5) # Fit the model_rnn variable"
   ]
  },
  {
   "cell_type": "code",
   "execution_count": 278,
   "metadata": {
    "id": "NiC0I2ahdagu"
   },
   "outputs": [],
   "source": [
    "def evaluate3(y_pred):\n",
    "    accuracy = accuracy_score(y_test, y_pred)\n",
    "    precision = precision_score(y_test, y_pred)\n",
    "    recall = recall_score(y_test, y_pred)\n",
    "    f1 = f1_score(y_test, y_pred)\n",
    "    cm = confusion_matrix(y_test, y_pred) # Use y_pred directly as it's 1D\n",
    "    disp = ConfusionMatrixDisplay(confusion_matrix=cm)\n",
    "    disp.plot()\n",
    "    plt.show()\n",
    "    print(\"Accuracy - {:.4f}\".format(accuracy))\n",
    "    print(\"Precision - {:.4f}\".format(precision))\n",
    "    print(\"Recall - {:.4f}\".format(recall))\n",
    "    print(\"F1 - {:.4f}\".format(f1))\n",
    "\n",
    "    return {\n",
    "        \"accuracy\": accuracy,\n",
    "        \"precision\": precision,\n",
    "        \"recall\": recall,\n",
    "        \"f1\": f1}"
   ]
  },
  {
   "cell_type": "code",
   "execution_count": 279,
   "metadata": {
    "colab": {
     "base_uri": "https://localhost:8080/",
     "height": 545
    },
    "id": "A3-AviJmAfyH",
    "outputId": "165947c3-63bf-4543-a7d9-eab651855513"
   },
   "outputs": [
    {
     "name": "stdout",
     "output_type": "stream",
     "text": [
      "29/29 [==============================] - 1s 15ms/step\n"
     ]
    },
    {
     "data": {
      "image/png": "[encoded data removed]",
      "text/plain": [
       "<Figure size 640x480 with 2 Axes>"
      ]
     },
     "metadata": {},
     "output_type": "display_data"
    },
    {
     "name": "stdout",
     "output_type": "stream",
     "text": [
      "Accuracy - 0.7084\n",
      "Precision - 0.7155\n",
      "Recall - 0.6108\n",
      "F1 - 0.6590\n"
     ]
    }
   ],
   "source": [
    "y_pred = np.round(model_rnn.predict(X_test)) # Use model_rnn instead of rnn\n",
    "scores = evaluate3(y_pred[:, 0]) # Index to get the first column of predictions\n",
    "scores['model'] = \"rnn\"\n",
    "model_scores.append(scores)"
   ]
  },
  {
   "cell_type": "code",
   "execution_count": 280,
   "metadata": {
    "colab": {
     "base_uri": "https://localhost:8080/",
     "height": 394
    },
    "id": "pTutzLeW9Wij",
    "outputId": "0794b9d8-c589-4b2d-f4a5-9d938f74a429"
   },
   "outputs": [
    {
     "data": {
      "application/vnd.google.colaboratory.intrinsic+json": {
       "summary": "{\n  \"name\": \"model_scores_df\",\n  \"rows\": 11,\n  \"fields\": [\n    {\n      \"column\": \"accuracy\",\n      \"properties\": {\n        \"dtype\": \"number\",\n        \"std\": 0.051999148820492044,\n        \"min\": 0.6147986942328618,\n        \"max\": 0.7725788900979326,\n        \"num_unique_values\": 10,\n        \"samples\": [\n          0.7529923830250272,\n          0.6322089227421109,\n          0.6855277475516867\n        ],\n        \"semantic_type\": \"\",\n        \"description\": \"\"\n      }\n    },\n    {\n      \"column\": \"precision\",\n      \"properties\": {\n        \"dtype\": \"number\",\n        \"std\": 0.05964140045079645,\n        \"min\": 0.5802752293577982,\n        \"max\": 0.7641277641277642,\n        \"num_unique_values\": 11,\n        \"samples\": [\n          0.6573426573426573,\n          0.6705882352941176,\n          0.7626666666666667\n        ],\n        \"semantic_type\": \"\",\n        \"description\": \"\"\n      }\n    },\n    {\n      \"column\": \"recall\",\n      \"properties\": {\n        \"dtype\": \"number\",\n        \"std\": 0.11628273929845612,\n        \"min\": 0.32075471698113206,\n        \"max\": 0.7570754716981132,\n        \"num_unique_values\": 11,\n        \"samples\": [\n          0.6650943396226415,\n          0.6721698113207547,\n          0.6745283018867925\n        ],\n        \"semantic_type\": \"\",\n        \"description\": \"\"\n      }\n    },\n    {\n      \"column\": \"f1\",\n      \"properties\": {\n        \"dtype\": \"number\",\n        \"std\": 0.08548845352829583,\n        \"min\": 0.4459016393442623,\n        \"max\": 0.7484957882069796,\n        \"num_unique_values\": 11,\n        \"samples\": [\n          0.6611957796014067,\n          0.6713780918727915,\n          0.7158948685857323\n        ],\n        \"semantic_type\": \"\",\n        \"description\": \"\"\n      }\n    },\n    {\n      \"column\": \"model\",\n      \"properties\": {\n        \"dtype\": \"string\",\n        \"num_unique_values\": 11,\n        \"samples\": [\n          \"Random Forest\",\n          \"Logistic Regression\",\n          \"cnn\"\n        ],\n        \"semantic_type\": \"\",\n        \"description\": \"\"\n      }\n    }\n  ]\n}",
       "type": "dataframe",
       "variable_name": "model_scores_df"
      },
      "text/html": [
       "\n",
       "  <div id=\"df-c6d8bad4-52b4-4bec-b837-8ef5418c7e9c\" class=\"colab-df-container\">\n",
       "    <div>\n",
       "<style scoped>\n",
       "    .dataframe tbody tr th:only-of-type {\n",
       "        vertical-align: middle;\n",
       "    }\n",
       "\n",
       "    .dataframe tbody tr th {\n",
       "        vertical-align: top;\n",
       "    }\n",
       "\n",
       "    .dataframe thead th {\n",
       "        text-align: right;\n",
       "    }\n",
       "</style>\n",
       "<table border=\"1\" class=\"dataframe\">\n",
       "  <thead>\n",
       "    <tr style=\"text-align: right;\">\n",
       "      <th></th>\n",
       "      <th>accuracy</th>\n",
       "      <th>precision</th>\n",
       "      <th>recall</th>\n",
       "      <th>f1</th>\n",
       "      <th>model</th>\n",
       "    </tr>\n",
       "  </thead>\n",
       "  <tbody>\n",
       "    <tr>\n",
       "      <th>0</th>\n",
       "      <td>0.696409</td>\n",
       "      <td>0.670588</td>\n",
       "      <td>0.672170</td>\n",
       "      <td>0.671378</td>\n",
       "      <td>Logistic Regression</td>\n",
       "    </tr>\n",
       "    <tr>\n",
       "      <th>1</th>\n",
       "      <td>0.632209</td>\n",
       "      <td>0.731183</td>\n",
       "      <td>0.320755</td>\n",
       "      <td>0.445902</td>\n",
       "      <td>KNN</td>\n",
       "    </tr>\n",
       "    <tr>\n",
       "      <th>2</th>\n",
       "      <td>0.677911</td>\n",
       "      <td>0.642222</td>\n",
       "      <td>0.681604</td>\n",
       "      <td>0.661327</td>\n",
       "      <td>Bernoulli Naive Bayes</td>\n",
       "    </tr>\n",
       "    <tr>\n",
       "      <th>3</th>\n",
       "      <td>0.614799</td>\n",
       "      <td>0.580275</td>\n",
       "      <td>0.596698</td>\n",
       "      <td>0.588372</td>\n",
       "      <td>Decision Tree</td>\n",
       "    </tr>\n",
       "    <tr>\n",
       "      <th>4</th>\n",
       "      <td>0.758433</td>\n",
       "      <td>0.760309</td>\n",
       "      <td>0.695755</td>\n",
       "      <td>0.726601</td>\n",
       "      <td>SVM</td>\n",
       "    </tr>\n",
       "    <tr>\n",
       "      <th>5</th>\n",
       "      <td>0.685528</td>\n",
       "      <td>0.657343</td>\n",
       "      <td>0.665094</td>\n",
       "      <td>0.661196</td>\n",
       "      <td>Random Forest</td>\n",
       "    </tr>\n",
       "    <tr>\n",
       "      <th>6</th>\n",
       "      <td>0.742111</td>\n",
       "      <td>0.705495</td>\n",
       "      <td>0.757075</td>\n",
       "      <td>0.730375</td>\n",
       "      <td>ffn</td>\n",
       "    </tr>\n",
       "    <tr>\n",
       "      <th>7</th>\n",
       "      <td>0.742111</td>\n",
       "      <td>0.749333</td>\n",
       "      <td>0.662736</td>\n",
       "      <td>0.703379</td>\n",
       "      <td>lstm</td>\n",
       "    </tr>\n",
       "    <tr>\n",
       "      <th>8</th>\n",
       "      <td>0.772579</td>\n",
       "      <td>0.764128</td>\n",
       "      <td>0.733491</td>\n",
       "      <td>0.748496</td>\n",
       "      <td>bilstm</td>\n",
       "    </tr>\n",
       "    <tr>\n",
       "      <th>9</th>\n",
       "      <td>0.752992</td>\n",
       "      <td>0.762667</td>\n",
       "      <td>0.674528</td>\n",
       "      <td>0.715895</td>\n",
       "      <td>cnn</td>\n",
       "    </tr>\n",
       "    <tr>\n",
       "      <th>10</th>\n",
       "      <td>0.708379</td>\n",
       "      <td>0.715470</td>\n",
       "      <td>0.610849</td>\n",
       "      <td>0.659033</td>\n",
       "      <td>rnn</td>\n",
       "    </tr>\n",
       "  </tbody>\n",
       "</table>\n",
       "</div>\n",
       "    <div class=\"colab-df-buttons\">\n",
       "\n",
       "  <div class=\"colab-df-container\">\n",
       "    <button class=\"colab-df-convert\" onclick=\"convertToInteractive('df-c6d8bad4-52b4-4bec-b837-8ef5418c7e9c')\"\n",
       "            title=\"Convert this dataframe to an interactive table.\"\n",
       "            style=\"display:none;\">\n",
       "\n",
       "  <svg xmlns=\"http://www.w3.org/2000/svg\" height=\"24px\" viewBox=\"0 -960 960 960\">\n",
       "    <path d=\"M120-120v-720h720v720H120Zm60-500h600v-160H180v160Zm220 220h160v-160H400v160Zm0 220h160v-160H400v160ZM180-400h160v-160H180v160Zm440 0h160v-160H620v160ZM180-180h160v-160H180v160Zm440 0h160v-160H620v160Z\"/>\n",
       "  </svg>\n",
       "    </button>\n",
       "\n",
       "  <style>\n",
       "    .colab-df-container {\n",
       "      display:flex;\n",
       "      gap: 12px;\n",
       "    }\n",
       "\n",
       "    .colab-df-convert {\n",
       "      background-color: #E8F0FE;\n",
       "      border: none;\n",
       "      border-radius: 50%;\n",
       "      cursor: pointer;\n",
       "      display: none;\n",
       "      fill: #1967D2;\n",
       "      height: 32px;\n",
       "      padding: 0 0 0 0;\n",
       "      width: 32px;\n",
       "    }\n",
       "\n",
       "    .colab-df-convert:hover {\n",
       "      background-color: #E2EBFA;\n",
       "      box-shadow: 0px 1px 2px rgba(60, 64, 67, 0.3), 0px 1px 3px 1px rgba(60, 64, 67, 0.15);\n",
       "      fill: #174EA6;\n",
       "    }\n",
       "\n",
       "    .colab-df-buttons div {\n",
       "      margin-bottom: 4px;\n",
       "    }\n",
       "\n",
       "    [theme=dark] .colab-df-convert {\n",
       "      background-color: #3B4455;\n",
       "      fill: #D2E3FC;\n",
       "    }\n",
       "\n",
       "    [theme=dark] .colab-df-convert:hover {\n",
       "      background-color: #434B5C;\n",
       "      box-shadow: 0px 1px 3px 1px rgba(0, 0, 0, 0.15);\n",
       "      filter: drop-shadow(0px 1px 2px rgba(0, 0, 0, 0.3));\n",
       "      fill: #FFFFFF;\n",
       "    }\n",
       "  </style>\n",
       "\n",
       "    <script>\n",
       "      const buttonEl =\n",
       "        document.querySelector('#df-c6d8bad4-52b4-4bec-b837-8ef5418c7e9c button.colab-df-convert');\n",
       "      buttonEl.style.display =\n",
       "        google.colab.kernel.accessAllowed ? 'block' : 'none';\n",
       "\n",
       "      async function convertToInteractive(key) {\n",
       "        const element = document.querySelector('#df-c6d8bad4-52b4-4bec-b837-8ef5418c7e9c');\n",
       "        const dataTable =\n",
       "          await google.colab.kernel.invokeFunction('convertToInteractive',\n",
       "                                                    [key], {});\n",
       "        if (!dataTable) return;\n",
       "\n",
       "        const docLinkHtml = 'Like what you see? Visit the ' +\n",
       "          '<a target=\"_blank\" href=https://colab.research.google.com/notebooks/data_table.ipynb>data table notebook</a>'\n",
       "          + ' to learn more about interactive tables.';\n",
       "        element.innerHTML = '';\n",
       "        dataTable['output_type'] = 'display_data';\n",
       "        await google.colab.output.renderOutput(dataTable, element);\n",
       "        const docLink = document.createElement('div');\n",
       "        docLink.innerHTML = docLinkHtml;\n",
       "        element.appendChild(docLink);\n",
       "      }\n",
       "    </script>\n",
       "  </div>\n",
       "\n",
       "\n",
       "<div id=\"df-4364a222-41e3-408a-8611-0a38324be5d3\">\n",
       "  <button class=\"colab-df-quickchart\" onclick=\"quickchart('df-4364a222-41e3-408a-8611-0a38324be5d3')\"\n",
       "            title=\"Suggest charts\"\n",
       "            style=\"display:none;\">\n",
       "\n",
       "<svg xmlns=\"http://www.w3.org/2000/svg\" height=\"24px\"viewBox=\"0 0 24 24\"\n",
       "     width=\"24px\">\n",
       "    <g>\n",
       "        <path d=\"M19 3H5c-1.1 0-2 .9-2 2v14c0 1.1.9 2 2 2h14c1.1 0 2-.9 2-2V5c0-1.1-.9-2-2-2zM9 17H7v-7h2v7zm4 0h-2V7h2v10zm4 0h-2v-4h2v4z\"/>\n",
       "    </g>\n",
       "</svg>\n",
       "  </button>\n",
       "\n",
       "<style>\n",
       "  .colab-df-quickchart {\n",
       "      --bg-color: #E8F0FE;\n",
       "      --fill-color: #1967D2;\n",
       "      --hover-bg-color: #E2EBFA;\n",
       "      --hover-fill-color: #174EA6;\n",
       "      --disabled-fill-color: #AAA;\n",
       "      --disabled-bg-color: #DDD;\n",
       "  }\n",
       "\n",
       "  [theme=dark] .colab-df-quickchart {\n",
       "      --bg-color: #3B4455;\n",
       "      --fill-color: #D2E3FC;\n",
       "      --hover-bg-color: #434B5C;\n",
       "      --hover-fill-color: #FFFFFF;\n",
       "      --disabled-bg-color: #3B4455;\n",
       "      --disabled-fill-color: #666;\n",
       "  }\n",
       "\n",
       "  .colab-df-quickchart {\n",
       "    background-color: var(--bg-color);\n",
       "    border: none;\n",
       "    border-radius: 50%;\n",
       "    cursor: pointer;\n",
       "    display: none;\n",
       "    fill: var(--fill-color);\n",
       "    height: 32px;\n",
       "    padding: 0;\n",
       "    width: 32px;\n",
       "  }\n",
       "\n",
       "  .colab-df-quickchart:hover {\n",
       "    background-color: var(--hover-bg-color);\n",
       "    box-shadow: 0 1px 2px rgba(60, 64, 67, 0.3), 0 1px 3px 1px rgba(60, 64, 67, 0.15);\n",
       "    fill: var(--button-hover-fill-color);\n",
       "  }\n",
       "\n",
       "  .colab-df-quickchart-complete:disabled,\n",
       "  .colab-df-quickchart-complete:disabled:hover {\n",
       "    background-color: var(--disabled-bg-color);\n",
       "    fill: var(--disabled-fill-color);\n",
       "    box-shadow: none;\n",
       "  }\n",
       "\n",
       "  .colab-df-spinner {\n",
       "    border: 2px solid var(--fill-color);\n",
       "    border-color: transparent;\n",
       "    border-bottom-color: var(--fill-color);\n",
       "    animation:\n",
       "      spin 1s steps(1) infinite;\n",
       "  }\n",
       "\n",
       "  @keyframes spin {\n",
       "    0% {\n",
       "      border-color: transparent;\n",
       "      border-bottom-color: var(--fill-color);\n",
       "      border-left-color: var(--fill-color);\n",
       "    }\n",
       "    20% {\n",
       "      border-color: transparent;\n",
       "      border-left-color: var(--fill-color);\n",
       "      border-top-color: var(--fill-color);\n",
       "    }\n",
       "    30% {\n",
       "      border-color: transparent;\n",
       "      border-left-color: var(--fill-color);\n",
       "      border-top-color: var(--fill-color);\n",
       "      border-right-color: var(--fill-color);\n",
       "    }\n",
       "    40% {\n",
       "      border-color: transparent;\n",
       "      border-right-color: var(--fill-color);\n",
       "      border-top-color: var(--fill-color);\n",
       "    }\n",
       "    60% {\n",
       "      border-color: transparent;\n",
       "      border-right-color: var(--fill-color);\n",
       "    }\n",
       "    80% {\n",
       "      border-color: transparent;\n",
       "      border-right-color: var(--fill-color);\n",
       "      border-bottom-color: var(--fill-color);\n",
       "    }\n",
       "    90% {\n",
       "      border-color: transparent;\n",
       "      border-bottom-color: var(--fill-color);\n",
       "    }\n",
       "  }\n",
       "</style>\n",
       "\n",
       "  <script>\n",
       "    async function quickchart(key) {\n",
       "      const quickchartButtonEl =\n",
       "        document.querySelector('#' + key + ' button');\n",
       "      quickchartButtonEl.disabled = true;  // To prevent multiple clicks.\n",
       "      quickchartButtonEl.classList.add('colab-df-spinner');\n",
       "      try {\n",
       "        const charts = await google.colab.kernel.invokeFunction(\n",
       "            'suggestCharts', [key], {});\n",
       "      } catch (error) {\n",
       "        console.error('Error during call to suggestCharts:', error);\n",
       "      }\n",
       "      quickchartButtonEl.classList.remove('colab-df-spinner');\n",
       "      quickchartButtonEl.classList.add('colab-df-quickchart-complete');\n",
       "    }\n",
       "    (() => {\n",
       "      let quickchartButtonEl =\n",
       "        document.querySelector('#df-4364a222-41e3-408a-8611-0a38324be5d3 button');\n",
       "      quickchartButtonEl.style.display =\n",
       "        google.colab.kernel.accessAllowed ? 'block' : 'none';\n",
       "    })();\n",
       "  </script>\n",
       "</div>\n",
       "\n",
       "  <div id=\"id_55747ada-ccde-4857-ba2f-f0321ef92e68\">\n",
       "    <style>\n",
       "      .colab-df-generate {\n",
       "        background-color: #E8F0FE;\n",
       "        border: none;\n",
       "        border-radius: 50%;\n",
       "        cursor: pointer;\n",
       "        display: none;\n",
       "        fill: #1967D2;\n",
       "        height: 32px;\n",
       "        padding: 0 0 0 0;\n",
       "        width: 32px;\n",
       "      }\n",
       "\n",
       "      .colab-df-generate:hover {\n",
       "        background-color: #E2EBFA;\n",
       "        box-shadow: 0px 1px 2px rgba(60, 64, 67, 0.3), 0px 1px 3px 1px rgba(60, 64, 67, 0.15);\n",
       "        fill: #174EA6;\n",
       "      }\n",
       "\n",
       "      [theme=dark] .colab-df-generate {\n",
       "        background-color: #3B4455;\n",
       "        fill: #D2E3FC;\n",
       "      }\n",
       "\n",
       "      [theme=dark] .colab-df-generate:hover {\n",
       "        background-color: #434B5C;\n",
       "        box-shadow: 0px 1px 3px 1px rgba(0, 0, 0, 0.15);\n",
       "        filter: drop-shadow(0px 1px 2px rgba(0, 0, 0, 0.3));\n",
       "        fill: #FFFFFF;\n",
       "      }\n",
       "    </style>\n",
       "    <button class=\"colab-df-generate\" onclick=\"generateWithVariable('model_scores_df')\"\n",
       "            title=\"Generate code using this dataframe.\"\n",
       "            style=\"display:none;\">\n",
       "\n",
       "  <svg xmlns=\"http://www.w3.org/2000/svg\" height=\"24px\"viewBox=\"0 0 24 24\"\n",
       "       width=\"24px\">\n",
       "    <path d=\"M7,19H8.4L18.45,9,17,7.55,7,17.6ZM5,21V16.75L18.45,3.32a2,2,0,0,1,2.83,0l1.4,1.43a1.91,1.91,0,0,1,.58,1.4,1.91,1.91,0,0,1-.58,1.4L9.25,21ZM18.45,9,17,7.55Zm-12,3A5.31,5.31,0,0,0,4.9,8.1,5.31,5.31,0,0,0,1,6.5,5.31,5.31,0,0,0,4.9,4.9,5.31,5.31,0,0,0,6.5,1,5.31,5.31,0,0,0,8.1,4.9,5.31,5.31,0,0,0,12,6.5,5.46,5.46,0,0,0,6.5,12Z\"/>\n",
       "  </svg>\n",
       "    </button>\n",
       "    <script>\n",
       "      (() => {\n",
       "      const buttonEl =\n",
       "        document.querySelector('#id_55747ada-ccde-4857-ba2f-f0321ef92e68 button.colab-df-generate');\n",
       "      buttonEl.style.display =\n",
       "        google.colab.kernel.accessAllowed ? 'block' : 'none';\n",
       "\n",
       "      buttonEl.onclick = () => {\n",
       "        google.colab.notebook.generateWithVariable('model_scores_df');\n",
       "      }\n",
       "      })();\n",
       "    </script>\n",
       "  </div>\n",
       "\n",
       "    </div>\n",
       "  </div>\n"
      ],
      "text/plain": [
       "    accuracy  precision    recall        f1                  model\n",
       "0   0.696409   0.670588  0.672170  0.671378    Logistic Regression\n",
       "1   0.632209   0.731183  0.320755  0.445902                    KNN\n",
       "2   0.677911   0.642222  0.681604  0.661327  Bernoulli Naive Bayes\n",
       "3   0.614799   0.580275  0.596698  0.588372          Decision Tree\n",
       "4   0.758433   0.760309  0.695755  0.726601                    SVM\n",
       "5   0.685528   0.657343  0.665094  0.661196          Random Forest\n",
       "6   0.742111   0.705495  0.757075  0.730375                    ffn\n",
       "7   0.742111   0.749333  0.662736  0.703379                   lstm\n",
       "8   0.772579   0.764128  0.733491  0.748496                 bilstm\n",
       "9   0.752992   0.762667  0.674528  0.715895                    cnn\n",
       "10  0.708379   0.715470  0.610849  0.659033                    rnn"
      ]
     },
     "execution_count": 280,
     "metadata": {},
     "output_type": "execute_result"
    }
   ],
   "source": [
    "model_scores_df = pd.DataFrame(model_scores)\n",
    "model_scores_df"
   ]
  },
  {
   "cell_type": "code",
   "execution_count": 281,
   "metadata": {
    "id": "47-x-sRY9djc"
   },
   "outputs": [],
   "source": [
    "model_scores_df.to_csv(\"./Results/Malayalam/bert.csv\")"
   ]
  },
  {
   "cell_type": "markdown",
   "metadata": {
    "id": "jcFcAtD49ocj"
   },
   "source": [
    "## Visualization of Results"
   ]
  },
  {
   "cell_type": "code",
   "execution_count": 282,
   "metadata": {
    "id": "d10wFFs89lzT"
   },
   "outputs": [],
   "source": [
    "base_path = \"./Results/Malayalam/\"\n",
    "\n",
    "bert_scores = pd.read_csv(base_path + \"bert.csv\")"
   ]
  },
  {
   "cell_type": "code",
   "execution_count": 283,
   "metadata": {
    "colab": {
     "base_uri": "https://localhost:8080/",
     "height": 386
    },
    "id": "36hbm1OV9sFf",
    "outputId": "5f3a3f64-1126-4d64-e2d9-26cdc76ee876"
   },
   "outputs": [
    {
     "data": {
      "image/png": "[encoded data removed]",
      "text/plain": [
       "<Figure size 1000x600 with 1 Axes>"
      ]
     },
     "metadata": {},
     "output_type": "display_data"
    }
   ],
   "source": [
    "# Assuming you want to sort and plot the 'bert_scores' DataFrame\n",
    "df = bert_scores.sort_values(by='accuracy', ascending=False)\n",
    "\n",
    "plt.figure(figsize=(10, 6))\n",
    "\n",
    "plt.barh(df['model'], df['accuracy'], color='skyblue')\n",
    "plt.xlabel('Accuracy')\n",
    "plt.ylabel('Model')\n",
    "plt.title('Accuracy of Different Models')\n",
    "plt.xlim(0, 1)\n",
    "plt.gca().invert_yaxis()\n",
    "plt.show()"
   ]
  },
  {
   "cell_type": "code",
   "execution_count": 283,
   "metadata": {
    "id": "ZFwcrM1l-bRe"
   },
   "outputs": [],
   "source": []
  }
 ],
 "metadata": {
  "colab": {
   "provenance": []
  },
  "kernelspec": {
   "display_name": "Python 3 (ipykernel)",
   "language": "python",
   "name": "python3"
  },
  "language_info": {
   "codemirror_mode": {
    "name": "ipython",
    "version": 3
   },
   "file_extension": ".py",
   "mimetype": "text/x-python",
   "name": "python",
   "nbconvert_exporter": "python",
   "pygments_lexer": "ipython3",
   "version": "3.12.3"
  }
 },
 "nbformat": 4,
 "nbformat_minor": 4
}
